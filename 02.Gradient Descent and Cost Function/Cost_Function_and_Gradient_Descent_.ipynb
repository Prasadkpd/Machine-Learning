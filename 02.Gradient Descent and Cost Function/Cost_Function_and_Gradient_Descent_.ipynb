{
  "nbformat": 4,
  "nbformat_minor": 0,
  "metadata": {
    "colab": {
      "name": "Cost Function and Gradient Descent .ipynb",
      "provenance": [],
      "authorship_tag": "ABX9TyNtPXGJvI7lvBhJ5gqBMAgN",
      "include_colab_link": true
    },
    "kernelspec": {
      "name": "python3",
      "display_name": "Python 3"
    },
    "language_info": {
      "name": "python"
    }
  },
  "cells": [
    {
      "cell_type": "markdown",
      "metadata": {
        "id": "view-in-github",
        "colab_type": "text"
      },
      "source": [
        "<a href=\"https://colab.research.google.com/github/Prasadkpd/Machine-Learning/blob/master/Gradient%20Descent%20and%20Cost%20Function/Cost_Function_and_Gradient_Descent_.ipynb\" target=\"_parent\"><img src=\"https://colab.research.google.com/assets/colab-badge.svg\" alt=\"Open In Colab\"/></a>"
      ]
    },
    {
      "cell_type": "code",
      "execution_count": 32,
      "metadata": {
        "id": "mHzglDSvxbtH"
      },
      "outputs": [],
      "source": [
        "import numpy as np\n",
        "import pandas as pd\n",
        "import matplotlib.pyplot as plt"
      ]
    },
    {
      "cell_type": "code",
      "source": [
        "# Nuber of data points\n",
        "n = 10"
      ],
      "metadata": {
        "id": "z4LpoW2Dxrg-"
      },
      "execution_count": 33,
      "outputs": []
    },
    {
      "cell_type": "code",
      "source": [
        "data = pd.read_csv(\"marks.csv\")\n",
        "data"
      ],
      "metadata": {
        "colab": {
          "base_uri": "https://localhost:8080/",
          "height": 363
        },
        "id": "BqXyZFvB17OI",
        "outputId": "dadb2b8c-4cb2-488f-e950-4fd3d3acdb3d"
      },
      "execution_count": 34,
      "outputs": [
        {
          "output_type": "execute_result",
          "data": {
            "text/plain": [
              "   quiz1  quiz2\n",
              "0      4     16\n",
              "1      3     12\n",
              "2      8     18\n",
              "3      7     19\n",
              "4      6     13\n",
              "5      2     13\n",
              "6      5     16\n",
              "7      6     16\n",
              "8      9     18\n",
              "9      4     14"
            ],
            "text/html": [
              "\n",
              "  <div id=\"df-89b3440d-c40d-49ab-ac4c-0f78621ec7fe\">\n",
              "    <div class=\"colab-df-container\">\n",
              "      <div>\n",
              "<style scoped>\n",
              "    .dataframe tbody tr th:only-of-type {\n",
              "        vertical-align: middle;\n",
              "    }\n",
              "\n",
              "    .dataframe tbody tr th {\n",
              "        vertical-align: top;\n",
              "    }\n",
              "\n",
              "    .dataframe thead th {\n",
              "        text-align: right;\n",
              "    }\n",
              "</style>\n",
              "<table border=\"1\" class=\"dataframe\">\n",
              "  <thead>\n",
              "    <tr style=\"text-align: right;\">\n",
              "      <th></th>\n",
              "      <th>quiz1</th>\n",
              "      <th>quiz2</th>\n",
              "    </tr>\n",
              "  </thead>\n",
              "  <tbody>\n",
              "    <tr>\n",
              "      <th>0</th>\n",
              "      <td>4</td>\n",
              "      <td>16</td>\n",
              "    </tr>\n",
              "    <tr>\n",
              "      <th>1</th>\n",
              "      <td>3</td>\n",
              "      <td>12</td>\n",
              "    </tr>\n",
              "    <tr>\n",
              "      <th>2</th>\n",
              "      <td>8</td>\n",
              "      <td>18</td>\n",
              "    </tr>\n",
              "    <tr>\n",
              "      <th>3</th>\n",
              "      <td>7</td>\n",
              "      <td>19</td>\n",
              "    </tr>\n",
              "    <tr>\n",
              "      <th>4</th>\n",
              "      <td>6</td>\n",
              "      <td>13</td>\n",
              "    </tr>\n",
              "    <tr>\n",
              "      <th>5</th>\n",
              "      <td>2</td>\n",
              "      <td>13</td>\n",
              "    </tr>\n",
              "    <tr>\n",
              "      <th>6</th>\n",
              "      <td>5</td>\n",
              "      <td>16</td>\n",
              "    </tr>\n",
              "    <tr>\n",
              "      <th>7</th>\n",
              "      <td>6</td>\n",
              "      <td>16</td>\n",
              "    </tr>\n",
              "    <tr>\n",
              "      <th>8</th>\n",
              "      <td>9</td>\n",
              "      <td>18</td>\n",
              "    </tr>\n",
              "    <tr>\n",
              "      <th>9</th>\n",
              "      <td>4</td>\n",
              "      <td>14</td>\n",
              "    </tr>\n",
              "  </tbody>\n",
              "</table>\n",
              "</div>\n",
              "      <button class=\"colab-df-convert\" onclick=\"convertToInteractive('df-89b3440d-c40d-49ab-ac4c-0f78621ec7fe')\"\n",
              "              title=\"Convert this dataframe to an interactive table.\"\n",
              "              style=\"display:none;\">\n",
              "        \n",
              "  <svg xmlns=\"http://www.w3.org/2000/svg\" height=\"24px\"viewBox=\"0 0 24 24\"\n",
              "       width=\"24px\">\n",
              "    <path d=\"M0 0h24v24H0V0z\" fill=\"none\"/>\n",
              "    <path d=\"M18.56 5.44l.94 2.06.94-2.06 2.06-.94-2.06-.94-.94-2.06-.94 2.06-2.06.94zm-11 1L8.5 8.5l.94-2.06 2.06-.94-2.06-.94L8.5 2.5l-.94 2.06-2.06.94zm10 10l.94 2.06.94-2.06 2.06-.94-2.06-.94-.94-2.06-.94 2.06-2.06.94z\"/><path d=\"M17.41 7.96l-1.37-1.37c-.4-.4-.92-.59-1.43-.59-.52 0-1.04.2-1.43.59L10.3 9.45l-7.72 7.72c-.78.78-.78 2.05 0 2.83L4 21.41c.39.39.9.59 1.41.59.51 0 1.02-.2 1.41-.59l7.78-7.78 2.81-2.81c.8-.78.8-2.07 0-2.86zM5.41 20L4 18.59l7.72-7.72 1.47 1.35L5.41 20z\"/>\n",
              "  </svg>\n",
              "      </button>\n",
              "      \n",
              "  <style>\n",
              "    .colab-df-container {\n",
              "      display:flex;\n",
              "      flex-wrap:wrap;\n",
              "      gap: 12px;\n",
              "    }\n",
              "\n",
              "    .colab-df-convert {\n",
              "      background-color: #E8F0FE;\n",
              "      border: none;\n",
              "      border-radius: 50%;\n",
              "      cursor: pointer;\n",
              "      display: none;\n",
              "      fill: #1967D2;\n",
              "      height: 32px;\n",
              "      padding: 0 0 0 0;\n",
              "      width: 32px;\n",
              "    }\n",
              "\n",
              "    .colab-df-convert:hover {\n",
              "      background-color: #E2EBFA;\n",
              "      box-shadow: 0px 1px 2px rgba(60, 64, 67, 0.3), 0px 1px 3px 1px rgba(60, 64, 67, 0.15);\n",
              "      fill: #174EA6;\n",
              "    }\n",
              "\n",
              "    [theme=dark] .colab-df-convert {\n",
              "      background-color: #3B4455;\n",
              "      fill: #D2E3FC;\n",
              "    }\n",
              "\n",
              "    [theme=dark] .colab-df-convert:hover {\n",
              "      background-color: #434B5C;\n",
              "      box-shadow: 0px 1px 3px 1px rgba(0, 0, 0, 0.15);\n",
              "      filter: drop-shadow(0px 1px 2px rgba(0, 0, 0, 0.3));\n",
              "      fill: #FFFFFF;\n",
              "    }\n",
              "  </style>\n",
              "\n",
              "      <script>\n",
              "        const buttonEl =\n",
              "          document.querySelector('#df-89b3440d-c40d-49ab-ac4c-0f78621ec7fe button.colab-df-convert');\n",
              "        buttonEl.style.display =\n",
              "          google.colab.kernel.accessAllowed ? 'block' : 'none';\n",
              "\n",
              "        async function convertToInteractive(key) {\n",
              "          const element = document.querySelector('#df-89b3440d-c40d-49ab-ac4c-0f78621ec7fe');\n",
              "          const dataTable =\n",
              "            await google.colab.kernel.invokeFunction('convertToInteractive',\n",
              "                                                     [key], {});\n",
              "          if (!dataTable) return;\n",
              "\n",
              "          const docLinkHtml = 'Like what you see? Visit the ' +\n",
              "            '<a target=\"_blank\" href=https://colab.research.google.com/notebooks/data_table.ipynb>data table notebook</a>'\n",
              "            + ' to learn more about interactive tables.';\n",
              "          element.innerHTML = '';\n",
              "          dataTable['output_type'] = 'display_data';\n",
              "          await google.colab.output.renderOutput(dataTable, element);\n",
              "          const docLink = document.createElement('div');\n",
              "          docLink.innerHTML = docLinkHtml;\n",
              "          element.appendChild(docLink);\n",
              "        }\n",
              "      </script>\n",
              "    </div>\n",
              "  </div>\n",
              "  "
            ]
          },
          "metadata": {},
          "execution_count": 34
        }
      ]
    },
    {
      "cell_type": "code",
      "source": [
        "plt.scatter(data.quiz1, data.quiz2, color=\"red\")\n",
        "plt.xlabel(\"Quiz 1 marks\")\n",
        "plt.ylabel(\"Quiz 2 marks\")"
      ],
      "metadata": {
        "colab": {
          "base_uri": "https://localhost:8080/",
          "height": 296
        },
        "id": "fZ91GIEy2c88",
        "outputId": "802bda7f-cce0-49ae-8459-d2dbe7294baa"
      },
      "execution_count": 35,
      "outputs": [
        {
          "output_type": "execute_result",
          "data": {
            "text/plain": [
              "Text(0, 0.5, 'Quiz 2 marks')"
            ]
          },
          "metadata": {},
          "execution_count": 35
        },
        {
          "output_type": "display_data",
          "data": {
            "text/plain": [
              "<Figure size 432x288 with 1 Axes>"
            ],
            "image/png": "[encoded data removed]"
          },
          "metadata": {
            "needs_background": "light"
          }
        }
      ]
    },
    {
      "cell_type": "code",
      "source": [
        "# Simple dataset\n",
        "x = np.array(data.quiz1.values)\n",
        "y = np.array(data.quiz2.values)"
      ],
      "metadata": {
        "id": "58mwH1csxv7F"
      },
      "execution_count": 36,
      "outputs": []
    },
    {
      "cell_type": "code",
      "source": [
        "x,y"
      ],
      "metadata": {
        "colab": {
          "base_uri": "https://localhost:8080/"
        },
        "id": "_M6PKaBv3EjI",
        "outputId": "6bbfd3b0-3cab-4098-f5d0-7d90580c69e9"
      },
      "execution_count": 37,
      "outputs": [
        {
          "output_type": "execute_result",
          "data": {
            "text/plain": [
              "(array([4, 3, 8, 7, 6, 2, 5, 6, 9, 4]),\n",
              " array([16, 12, 18, 19, 13, 13, 16, 16, 18, 14]))"
            ]
          },
          "metadata": {},
          "execution_count": 37
        }
      ]
    },
    {
      "cell_type": "code",
      "source": [
        "# Start with m=0 and c=0\n",
        "m = 0\n",
        "c = 0\n",
        "learning_rate = 0.01"
      ],
      "metadata": {
        "id": "08fS2dqsyWQj"
      },
      "execution_count": 50,
      "outputs": []
    },
    {
      "cell_type": "code",
      "source": [
        "for i in range(1, 101):\n",
        "  y_predict = m * x + c\n",
        "  # Calculate cost\n",
        "  cost = (1/n) * sum([value ** 2 for value in (y - y_predict)])\n",
        "\n",
        "  # Plot after each iteration cost against m\n",
        "  plt.scatter(m , cost)\n",
        "\n",
        "  # Calculate gradients\n",
        "  dm = -(2 / n) * sum(x * (y - y_predict))\n",
        "  dc = -(2 / n) * sum(y - y_predict)\n",
        "\n",
        "  # Update parameters\n",
        "  m = m - learning_rate * dm\n",
        "  c = c - learning_rate * dc\n",
        "\n",
        "  print(\"m {}, c {}, cost {} interation {}\". format(m, c, cost, i))\n",
        "plt.show()"
      ],
      "metadata": {
        "colab": {
          "base_uri": "https://localhost:8080/",
          "height": 1000
        },
        "id": "jmcOwu3byjwD",
        "outputId": "ffadac16-e44d-42cf-abc7-4b43a25729d6"
      },
      "execution_count": 51,
      "outputs": [
        {
          "output_type": "stream",
          "name": "stdout",
          "text": [
            "m 1.75, c 0.31, cost 245.5 interation 1\n",
            "m 2.29052, c 0.42479999999999996, cost 38.4951 interation 2\n",
            "m 2.45541216, c 0.47892784, cost 18.460985162240004 interation 3\n",
            "m 2.50365098176, c 0.51416476992, cost 16.461947666580325 interation 4\n",
            "m 2.51566772686592, c 0.54348716849152, cost 16.20287116238878 interation 5\n",
            "m 2.5164424002149377, c 0.5709253106201703, cost 16.111967841755707 interation 6\n",
            "m 2.513733173723521, c 0.5977310251845536, cost 16.037625241616304 interation 7\n",
            "m 2.509949530261383, c 0.6242932219187222, cost 15.965217458993823 interation 8\n",
            "m 2.5058397779585118, c 0.6507328082121183, cost 15.893331979827806 interation 9\n",
            "m 2.501636303883483, c 0.6770874560283566, cost 15.821830829338493 interation 10\n",
            "m 2.49741126242272, c 0.7033689860883734, cost 15.750698980495129 interation 11\n",
            "m 2.493187043577108, c 0.7295811900249521, cost 15.679933274340067 interation 12\n",
            "m 2.4889705817705967, c 0.7557253655181254, cost 15.609531705476364 interation 13\n",
            "m 2.484764011344798, c 0.7818020353765385, cost 15.539492388527547 interation 14\n",
            "m 2.4805679759004278, c 0.8078114814437695, cost 15.469813458399893 interation 15\n",
            "m 2.476382656099413, c 0.8337539104176479, cost 15.400493060617155 interation 16\n",
            "m 2.4722080888755014, c 0.8596295053505583, cost 15.331529350343741 interation 17\n",
            "m 2.4680442665733042, c 0.885438441644993, cost 15.262920492246138 interation 18\n",
            "m 2.4638911677383843, c 0.9111808920221762, cost 15.194664660435443 interation 19\n",
            "m 2.459748766679795, c 0.9368570280659871, cost 15.126760038417935 interation 20\n",
            "m 2.4556170364398464, c 0.9624670207032495, cost 15.059204819046654 interation 21\n",
            "m 2.4514959497163185, c 0.9880110403536811, cost 14.991997204473305 interation 22\n",
            "m 2.447385479148755, c 1.0134892569772451, cost 14.92513540610039 interation 23\n",
            "m 2.4432855974072494, c 1.0389018400896346, cost 14.858617644533656 interation 24\n",
            "m 2.439196277219897, c 1.064248958767859, cost 14.792442149534674 interation 25\n",
            "m 2.4351174913811975, c 1.0895307816527529, cost 14.726607159973765 interation 26\n",
            "m 2.4310492127545356, c 1.1147474769505286, cost 14.661110923783163 interation 27\n",
            "m 2.4269914142728304, c 1.1398992124340281, cost 14.595951697910312 interation 28\n",
            "m 2.4229440689386132, c 1.1649861554438818, cost 14.531127748271523 interation 29\n",
            "m 2.418907149823926, c 1.190008472889634, cost 14.466637349705843 interation 30\n",
            "m 2.4148806300701673, c 1.2149663312508574, cost 14.402478785929105 interation 31\n",
            "m 2.410864482887922, c 1.2398598965782621, cost 14.338650349488269 interation 32\n",
            "m 2.4068586815567863, c 1.2646893344948014, cost 14.275150341715971 interation 33\n",
            "m 2.4028631994251874, c 1.2894548101967724, cost 14.211977072685327 interation 34\n",
            "m 2.39887800991021, c 1.3141564884549168, cost 14.149128861164977 interation 35\n",
            "m 2.394903086497418, c 1.3387945336155158, cost 14.08660403457431 interation 36\n",
            "m 2.3909384027406775, c 1.3633691096014844, cost 14.024400928938952 interation 37\n",
            "m 2.3869839322619817, c 1.3878803799134616, cost 13.962517888846515 interation 38\n",
            "m 2.3830396487512764, c 1.4123285076308982, cost 13.9009532674025 interation 39\n",
            "m 2.3791055259662817, c 1.4367136554131423, cost 13.839705426186516 interation 40\n",
            "m 2.375181537732321, c 1.461035985500521, cost 13.778772735208626 interation 41\n",
            "m 2.371267657942145, c 1.4852956597154199, cost 13.718153572866 interation 42\n",
            "m 2.3673638605557583, c 1.5094928394633598, cost 13.657846325899754 interation 43\n",
            "m 2.363470119600246, c 1.5336276857340707, cost 13.59784938935202 interation 44\n",
            "m 2.359586409169601, c 1.5577003591025627, cost 13.538161166523208 interation 45\n",
            "m 2.3557127034245524, c 1.5817110197301945, cost 13.478780068929545 interation 46\n",
            "m 2.3518489765923922, c 1.605659827365739, cost 13.419704516260786 interation 47\n",
            "m 2.3479952029668048, c 1.6295469413464458, cost 13.360932936338171 interation 48\n",
            "m 2.344151356907696, c 1.6533725205991021, cost 13.302463765072549 interation 49\n",
            "m 2.340317412841021, c 1.677136723641089, cost 13.244295446422777 interation 50\n",
            "m 2.336493345258617, c 1.7008397085814368, cost 13.186426432354333 interation 51\n",
            "m 2.332679128718031, c 1.7244816331218775, cost 13.128855182798075 interation 52\n",
            "m 2.3288747378423515, c 1.7480626545578926, cost 13.071580165609276 interation 53\n",
            "m 2.325080147320039, c 1.7715829297797607, cost 13.014599856526843 interation 54\n",
            "m 2.3212953319047585, c 1.7950426152736012, cost 12.95791273913277 interation 55\n",
            "m 2.3175202664152117, c 1.8184418671224152, cost 12.901517304811737 interation 56\n",
            "m 2.3137549257349685, c 1.841780841007124, cost 12.845412052711035 interation 57\n",
            "m 2.3099992848123003, c 1.8650596922076048, cost 12.789595489700538 interation 58\n",
            "m 2.306253318660013, c 1.8882785756037244, cost 12.734066130333023 interation 59\n",
            "m 2.302517002355282, c 1.9114376456763684, cost 12.678822496804637 interation 60\n",
            "m 2.2987903110394847, c 1.9345370565084705, cost 12.623863118915537 interation 61\n",
            "m 2.295073219918036, c 1.9575769617860368, cost 12.569186534030791 interation 62\n",
            "m 2.291365704260224, c 1.980557514799168, cost 12.514791287041419 interation 63\n",
            "m 2.287667739399043, c 2.0034788684430804, cost 12.460675930325735 interation 64\n",
            "m 2.2839793007310334, c 2.0263411752191223, cost 12.40683902371073 interation 65\n",
            "m 2.2803003637161137, c 2.049144587235788, cost 12.353279134433832 interation 66\n",
            "m 2.2766309038774204, c 2.071889256209732, cost 12.299994837104709 interation 67\n",
            "m 2.2729708968011426, c 2.0945753334667763, cost 12.246984713667384 interation 68\n",
            "m 2.269320318136363, c 2.1172029699429173, cost 12.194247353362446 interation 69\n",
            "m 2.265679143594892, c 2.139772316185332, cost 12.141781352689573 interation 70\n",
            "m 2.262047348951109, c 2.162283522353377, cost 12.089585315370114 interation 71\n",
            "m 2.258424910041799, c 2.1847367382195895, cost 12.037657852309962 interation 72\n",
            "m 2.2548118027659942, c 2.2071321131706836, cost 11.985997581562586 interation 73\n",
            "m 2.2512080030848125, c 2.2294697962085426, cost 11.93460312829225 interation 74\n",
            "m 2.247613487021296, c 2.251749935951212, cost 11.88347312473742 interation 75\n",
            "m 2.244028230660254, c 2.2739726806338876, cost 11.832606210174376 interation 76\n",
            "m 2.2404522101481037, c 2.2961381781099024, cost 11.782001030880961 interation 77\n",
            "m 2.2368854016927084, c 2.3182465758517092, cost 11.731656240100627 interation 78\n",
            "m 2.2333277815632235, c 2.3402980209518627, cost 11.681570498006522 interation 79\n",
            "m 2.229779326089936, c 2.3622926601239973, cost 11.631742471665861 interation 80\n",
            "m 2.2262400116641072, c 2.3842306397038042, cost 11.58217083500447 interation 81\n",
            "m 2.2227098147378164, c 2.4061121056500046, cost 11.53285426877147 interation 82\n",
            "m 2.2191887118238034, c 2.42793720354532, cost 11.483791460504156 interation 83\n",
            "m 2.215676679495313, c 2.449706078597443, cost 11.434981104493126 interation 84\n",
            "m 2.212173694385939, c 2.4714188756400004, cost 11.386421901747472 interation 85\n",
            "m 2.208679733189468, c 2.493075739133519, cost 11.338112559960223 interation 86\n",
            "m 2.2051947726597256, c 2.514676813166386, cost 11.290051793473989 interation 87\n",
            "m 2.2017187896104202, c 2.5362222414558078, cost 11.242238323246703 interation 88\n",
            "m 2.1982517609149905, c 2.5577121673487664, cost 11.194670876817595 interation 89\n",
            "m 2.19479366350645, c 2.579146733822972, cost 11.147348188273337 interation 90\n",
            "m 2.191344474377235, c 2.6005260834878157, cost 11.100268998214345 interation 91\n",
            "m 2.187904170579049, c 2.621850358585318, cost 11.05343205372127 interation 92\n",
            "m 2.1844727292227137, c 2.6431197009910745, cost 11.006836108321643 interation 93\n",
            "m 2.181050127478014, c 2.6643342522152, cost 10.960479921956708 interation 94\n",
            "m 2.177636342573547, c 2.6854941534032704, cost 10.914362260948423 interation 95\n",
            "m 2.1742313517965703, c 2.7065995453372618, cost 10.868481897966625 interation 96\n",
            "m 2.1708351324928508, c 2.727650568436487, cost 10.822837611996375 interation 97\n",
            "m 2.167447662066514, c 2.748647362758529, cost 10.777428188305436 interation 98\n",
            "m 2.1640689179798955, c 2.769590068000175, cost 10.732252418411985 interation 99\n",
            "m 2.160698877753387, c 2.7904788234983426, cost 10.687309100052422 interation 100\n"
          ]
        },
        {
          "output_type": "display_data",
          "data": {
            "text/plain": [
              "<Figure size 432x288 with 1 Axes>"
            ],
            "image/png": "[encoded data removed]"
          },
          "metadata": {
            "needs_background": "light"
          }
        }
      ]
    },
    {
      "cell_type": "code",
      "source": [
        "m,c = np.polyfit(x,y,1)\n",
        "m,c"
      ],
      "metadata": {
        "colab": {
          "base_uri": "https://localhost:8080/"
        },
        "id": "gkB_OH-u572y",
        "outputId": "08a4d181-618a-4ca4-a82d-87ada71a8a4a"
      },
      "execution_count": 52,
      "outputs": [
        {
          "output_type": "execute_result",
          "data": {
            "text/plain": [
              "(0.8558558558558569, 10.878378378378374)"
            ]
          },
          "metadata": {},
          "execution_count": 52
        }
      ]
    }
  ]
}