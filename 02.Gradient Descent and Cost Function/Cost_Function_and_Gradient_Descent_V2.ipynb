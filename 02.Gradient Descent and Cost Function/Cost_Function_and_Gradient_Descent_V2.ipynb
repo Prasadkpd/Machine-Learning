{
  "nbformat": 4,
  "nbformat_minor": 0,
  "metadata": {
    "colab": {
      "name": "Cost Function and Gradient Descent-V2.ipynb",
      "provenance": [],
      "authorship_tag": "ABX9TyPPh7NX9aSwqhStDujB07FS",
      "include_colab_link": true
    },
    "kernelspec": {
      "name": "python3",
      "display_name": "Python 3"
    },
    "language_info": {
      "name": "python"
    }
  },
  "cells": [
    {
      "cell_type": "markdown",
      "metadata": {
        "id": "view-in-github",
        "colab_type": "text"
      },
      "source": [
        "<a href=\"https://colab.research.google.com/github/Prasadkpd/Machine-Learning/blob/master/Gradient%20Descent%20and%20Cost%20Function/Cost_Function_and_Gradient_Descent_V2.ipynb\" target=\"_parent\"><img src=\"https://colab.research.google.com/assets/colab-badge.svg\" alt=\"Open In Colab\"/></a>"
      ]
    },
    {
      "cell_type": "code",
      "source": [
        "import numpy as np\n",
        "import matplotlib.pyplot as plt"
      ],
      "metadata": {
        "id": "YjghfKFva9Ge"
      },
      "execution_count": 4,
      "outputs": []
    },
    {
      "cell_type": "code",
      "source": [
        "# Number of data points\n",
        "n = 5"
      ],
      "metadata": {
        "id": "5IvdeTiRbMAi"
      },
      "execution_count": 6,
      "outputs": []
    },
    {
      "cell_type": "code",
      "source": [
        "# Simpe dataset\n",
        "x = np.array([1, 2, 3, 4, 5])\n",
        "y = np.array([5, 8, 11, 14, 17])"
      ],
      "metadata": {
        "id": "c1CyMqpqbReY"
      },
      "execution_count": 7,
      "outputs": []
    },
    {
      "cell_type": "code",
      "source": [
        "# Start with m=0 and c=0\n",
        "m = 0\n",
        "c = 0\n",
        "learning_rate = 0.01"
      ],
      "metadata": {
        "id": "zsxcsaejbe8z"
      },
      "execution_count": 8,
      "outputs": []
    },
    {
      "cell_type": "code",
      "source": [
        "for i in range(1, 101):\n",
        "  y_predict = m * x + c\n",
        "  # Calculate cost\n",
        "  cost = (1/n) * sum([value ** 2 for value in (y - y_predict)])\n",
        "\n",
        "  # Plot after each iteration cost against m\n",
        "  plt.scatter(m , cost)\n",
        "\n",
        "  # Calculate gradients\n",
        "  dm = -(2 / n) * sum(x * (y - y_predict))\n",
        "  dc = -(2 / n) * sum(y - y_predict)\n",
        "\n",
        "  # Update parameters\n",
        "  m = m - learning_rate * dm\n",
        "  c = c - learning_rate * dc\n",
        "\n",
        "  print(\"m {}, c {}, cost {} interation {}\". format(m, c, cost, i))\n",
        "plt.show()"
      ],
      "metadata": {
        "colab": {
          "base_uri": "https://localhost:8080/",
          "height": 1000
        },
        "id": "jmcOwu3byjwD",
        "outputId": "c118688c-f9c5-4ec1-e1ce-1277e8b1e1c4"
      },
      "execution_count": 12,
      "outputs": [
        {
          "output_type": "stream",
          "name": "stdout",
          "text": [
            "m 2.1757651200000003, c 0.6183820800000001, cost 27.676028061184002 interation 1\n",
            "m 2.4399938688000002, c 0.6954685312000001, cost 16.214528671342176 interation 2\n",
            "m 2.641467105792, c 0.755159528448, cost 9.53475161511504 interation 3\n",
            "m 2.7950347708108803, c 0.8015683115315201, cost 5.641529540691357 interation 4\n",
            "m 2.9120330225405953, c 0.8378348590522369, cost 3.3721776630341185 interation 5\n",
            "m 3.00111566603853, c 0.8663561805187564, cost 2.04914082373806 interation 6\n",
            "m 3.068888848678928, c 0.8889621169460694, cost 1.277573393810718 interation 7\n",
            "m 3.1203955749527994, c 0.9070495436864123, cost 0.8273788621627981 interation 8\n",
            "m 3.1594855758419986, c 0.9216848183155161, cost 0.5644683476096531 interation 9\n",
            "m 3.189097660057828, c 0.9336819873986858, cost 0.4107014628287187 interation 10\n",
            "m 3.2114752556011847, c 0.9436624880472424, cost 0.3205418330682894 interation 11\n",
            "m 3.2283309500860895, c 0.9521007229502264, cost 0.2674530881580191 interation 12\n",
            "m 3.240972097690136, c 0.9593588514860565, cost 0.23597112014101074 interation 13\n",
            "m 3.250396705109143, c 0.9657133485949272, cost 0.217084187496984 interation 14\n",
            "m 3.257366629069436, c 0.97137527931648, cost 0.20554066859819098 interation 15\n",
            "m 3.262463453915171, c 0.9765057759859843, cost 0.1982801537066147 interation 16\n",
            "m 3.2661311474946744, c 0.9812278532313543, cost 0.19351916306026645 interation 17\n",
            "m 3.268708623851965, c 0.9856354273170468, cost 0.19021834863583312 interation 18\n",
            "m 3.2704546009655098, c 0.989800201339588, cost 0.1877720057119176 interation 19\n",
            "m 3.2715665766727224, c 0.9937769212548657, cost 0.18582713557824082 interation 20\n",
            "m 3.2721953145294314, c 0.9976073882294051, cost 0.18417800423907482 interation 21\n",
            "m 3.272455902039192, c 1.0013235215930512, cost 0.1827046964445598 interation 22\n",
            "m 3.272436192294987, c 1.0049496970388385, cost 0.1813373080210592 interation 23\n",
            "m 3.2722032481677594, c 1.0085045315603625, cost 0.18003507893292925 interation 24\n",
            "m 3.2718082616772306, c 1.0120022460390896, cost 0.1787742330629022 interation 25\n",
            "m 3.2712903093458947, c 1.015453705417674, cost 0.1775408918370407 interation 26\n",
            "m 3.2706792189647373, c 1.0188672127485667, cost 0.17632694463513032 interation 27\n",
            "m 3.269997758027581, c 1.0222491153557112, cost 0.17512764226924626 interation 28\n",
            "m 3.2692633043401704, c 1.0256042675669421, cost 0.1739401945811601 interation 29\n",
            "m 3.2684891213313163, c 1.028936383955193, cost 0.17276295319050045 interation 30\n",
            "m 3.267685331601115, c 1.0322483089962102, cost 0.17159493523981642 interation 31\n",
            "m 3.2668596601090973, c 1.0355422229202191, cost 0.17043554585574697 interation 32\n",
            "m 3.2660180015098828, c 1.038819798855269, cost 0.1692844164121298 interation 33\n",
            "m 3.2651648532463926, c 1.0420823227875706, cost 0.16814131027672669 interation 34\n",
            "m 3.264303646164932, c 1.0453307851370357, cost 0.16700606788409167 interation 35\n",
            "m 3.263436996900425, c 1.048565950664399, cost 0.16587857472575618 interation 36\n",
            "m 3.2625669005424673, c 1.0517884118370855, cost 0.16475874269550966 interation 37\n",
            "m 3.2616948777128996, c 1.0549986295677958, cost 0.1636464992173721 interation 38\n",
            "m 3.2608220868419937, c 1.058196964313666, cost 0.16254178090893887 interation 39\n",
            "m 3.2599494098779354, c 1.061383699816873, cost 0.16144452988772562 interation 40\n",
            "m 3.2590775177157774, c 1.0645590612278595, cost 0.16035469161772756 interation 41\n",
            "m 3.2582069201446346, c 1.0677232289403555, cost 0.15927221365354627 interation 42\n",
            "m 3.2573380039763937, c 1.0708763491528703, cost 0.1581970449075789 interation 43\n",
            "m 3.2564710621524147, c 1.0740185419312294, cost 0.15712913522203756 interation 44\n",
            "m 3.2556063159630098, c 1.0771499073634598, cost 0.15606843511859633 interation 45\n",
            "m 3.25474393200934, c 1.0802705302584101, cost 0.15501489565158275 interation 46\n",
            "m 3.2538840351517804, c 1.0833804837326815, cost 0.15396846832149005 interation 47\n",
            "m 3.2530267183944277, c 1.086479831948921, cost 0.15292910502366938 interation 48\n",
            "m 3.2521720504307186, c 1.089568632206277, cost 0.1518967580175108 interation 49\n",
            "m 3.251320081403584, c 1.0926469365363083, cost 0.1508713799075898 interation 50\n",
            "m 3.250470847302617, c 1.095714792921367, cost 0.14985292363177324 interation 51\n",
            "m 3.249624373320759, c 1.0987722462247826, cost 0.14884134245339983 interation 52\n",
            "m 3.248780676416705, c 1.1018193389010413, cost 0.14783658995583876 interation 53\n",
            "m 3.2479397672709673, c 1.1048561115380182, cost 0.14683862003843504 interation 54\n",
            "m 3.2471016517790736, c 1.1078826032709999, cost 0.14584738691327812 interation 55\n",
            "m 3.2462663321914174, c 1.1108988520988354, cost 0.14486284510244218 interation 56\n",
            "m 3.2454338079833756, c 1.1139048951253736, cost 0.14388494943552496 interation 57\n",
            "m 3.2446040765195105, c 1.1169007687438637, cost 0.1429136550473515 interation 58\n",
            "m 3.2437771335605863, c 1.1198865087778158, cost 0.1419489173757861 interation 59\n",
            "m 3.2429529736505884, c 1.1228621505886243, cost 0.14099069215961121 interation 60\n",
            "m 3.2421315904121415, c 1.1258277291578165, cost 0.14003893543645746 interation 61\n",
            "m 3.2413129767720013, c 1.1287832791499317, cost 0.13909360354075603 interation 62\n",
            "m 3.240497125133165, c 1.131728834960613, cost 0.1381546531017248 interation 63\n",
            "m 3.239684027506232, c 1.1346644307534108, cost 0.13722204104136537 interation 64\n",
            "m 3.238873675609656, c 1.1375901004879687, cost 0.13629572457248587 interation 65\n",
            "m 3.2380660609462537, c 1.14050587794163, cost 0.1353756611967331 interation 66\n",
            "m 3.23726117486158, c 1.1434117967260222, cost 0.13446180870263932 interation 67\n",
            "m 3.2364590085884712, c 1.146307890299807, cost 0.13355412516368786 interation 68\n",
            "m 3.2356595532810193, c 1.1491941919785025, cost 0.13265256893638785 interation 69\n",
            "m 3.234862800040485, c 1.1520707349420714, cost 0.13175709865836185 interation 70\n",
            "m 3.2340687399350543, c 1.1549375522408007, cost 0.13086767324644993 interation 71\n",
            "m 3.2332773640148944, c 1.1577946767998815, cost 0.1299842518948235 interation 72\n",
            "m 3.232488663323625, c 1.1606421414229902, cost 0.12910679407311393 interation 73\n",
            "m 3.231702628907048, c 1.163479978795113, cost 0.12823525952455217 interation 74\n",
            "m 3.230919251819791, c 1.1663082214847877, cost 0.12736960826412283 interation 75\n",
            "m 3.23013852313035, c 1.1691269019459045, cost 0.126509800576728 interation 76\n",
            "m 3.2293604339249184, c 1.1719360525191653, cost 0.1256557970153674 interation 77\n",
            "m 3.2285849753102864, c 1.174735705433287, cost 0.12480755839932754 interation 78\n",
            "m 3.2278121384160263, c 1.1775258928060042, cost 0.12396504581238298 interation 79\n",
            "m 3.2270419143961404, c 1.1803066466449226, cost 0.12312822060101303 interation 80\n",
            "m 3.226274294430294, c 1.1830779988482556, cost 0.12229704437262717 interation 81\n",
            "m 3.225509269724734, c 1.1858399812054727, cost 0.12147147899380305 interation 82\n",
            "m 3.224746831512964, c 1.1885926253978794, cost 0.12065148658853844 interation 83\n",
            "m 3.223986971056239, c 1.191335962999144, cost 0.11983702953651353 interation 84\n",
            "m 3.223229679643918, c 1.1940700254757868, cost 0.11902807047136187 interation 85\n",
            "m 3.222474948593709, c 1.196794844187636, cost 0.11822457227896091 interation 86\n",
            "m 3.221722769251835, c 1.1995104503882608, cost 0.1174264980957258 interation 87\n",
            "m 3.2209731329931355, c 1.2022168752253855, cost 0.1166338113069184 interation 88\n",
            "m 3.2202260312211224, c 1.2049141497412896, cost 0.11584647554496919 interation 89\n",
            "m 3.219481455367998, c 1.2076023048731965, cost 0.11506445468780638 interation 90\n",
            "m 3.2187393968946467, c 1.2102813714536527, cost 0.1142877128572021 interation 91\n",
            "m 3.217999847290605, c 1.2129513802109009, cost 0.1135162144171221 interation 92\n",
            "m 3.217262798074018, c 1.2156123617692465, cost 0.11274992397209356 interation 93\n",
            "m 3.216528240791579, c 1.2182643466494205, cost 0.11198880636558176 interation 94\n",
            "m 3.2157961670184663, c 1.2209073652689373, cost 0.11123282667837378 interation 95\n",
            "m 3.2150665683582673, c 1.2235414479424507, cost 0.11048195022698054 interation 96\n",
            "m 3.2143394364429017, c 1.2261666248821057, cost 0.10973614256204317 interation 97\n",
            "m 3.213614762932537, c 1.2287829261978895, cost 0.10899536946675106 interation 98\n",
            "m 3.2128925395155052, c 1.2313903818979794, cost 0.1082595969552777 interation 99\n",
            "m 3.212172757908215, c 1.2339890218890894, cost 0.10752879127121373 interation 100\n"
          ]
        },
        {
          "output_type": "display_data",
          "data": {
            "text/plain": [
              "<Figure size 432x288 with 1 Axes>"
            ],
            "image/png": "[encoded data removed]"
          },
          "metadata": {
            "needs_background": "light"
          }
        }
      ]
    },
    {
      "cell_type": "code",
      "source": [
        "m,c = np.polyfit(x,y,1)\n",
        "m,c"
      ],
      "metadata": {
        "colab": {
          "base_uri": "https://localhost:8080/"
        },
        "id": "gkB_OH-u572y",
        "outputId": "b491385e-0db3-4f65-84e4-804fef281b47"
      },
      "execution_count": 13,
      "outputs": [
        {
          "output_type": "execute_result",
          "data": {
            "text/plain": [
              "(3.0, 1.9999999999999971)"
            ]
          },
          "metadata": {},
          "execution_count": 13
        }
      ]
    }
  ]
}