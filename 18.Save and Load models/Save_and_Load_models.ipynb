{
  "nbformat": 4,
  "nbformat_minor": 0,
  "metadata": {
    "colab": {
      "provenance": [],
      "authorship_tag": "ABX9TyMgyr9mUPwtyxqXzPXo8Za8",
      "include_colab_link": true
    },
    "kernelspec": {
      "name": "python3",
      "display_name": "Python 3"
    },
    "language_info": {
      "name": "python"
    }
  },
  "cells": [
    {
      "cell_type": "markdown",
      "metadata": {
        "id": "view-in-github",
        "colab_type": "text"
      },
      "source": [
        "<a href=\"https://colab.research.google.com/github/Prasadkpd/Machine-Learning/blob/master/Save%20and%20Load%20models/Save_and_Load_models.ipynb\" target=\"_parent\"><img src=\"https://colab.research.google.com/assets/colab-badge.svg\" alt=\"Open In Colab\"/></a>"
      ]
    },
    {
      "cell_type": "code",
      "execution_count": 2,
      "metadata": {
        "colab": {
          "base_uri": "https://localhost:8080/"
        },
        "id": "gY8wv0YkQiEi",
        "outputId": "bb031133-fd4b-4f78-f1d9-86a8f7211213"
      },
      "outputs": [
        {
          "output_type": "stream",
          "name": "stdout",
          "text": [
            "Accuracy : 0.9666666666666667\n"
          ]
        }
      ],
      "source": [
        "# Load iris dataset from sklearn library\n",
        "from sklearn.datasets import load_iris\n",
        "dataset = load_iris()\n",
        "\n",
        "# Split dataset into training and testing set\n",
        "from sklearn.model_selection import train_test_split\n",
        "X_train, X_test, y_train, y_test = train_test_split(dataset.data, dataset.target, test_size = 0.2)\n",
        "\n",
        "# import RandomForestClassifier and create a model\n",
        "from sklearn.ensemble import RandomForestClassifier\n",
        "rf = RandomForestClassifier(n_estimators=100)\n",
        "\n",
        "# train the model\n",
        "rf.fit(X_train, y_train)\n",
        "\n",
        "# Calculate accuracy of the model\n",
        "print(\"Accuracy : {}\".format(rf.score(X_test, y_test)))"
      ]
    },
    {
      "cell_type": "code",
      "source": [
        "dataset.target"
      ],
      "metadata": {
        "colab": {
          "base_uri": "https://localhost:8080/"
        },
        "id": "PyWq4T5US-cP",
        "outputId": "957da714-b803-4eef-beae-1814886f5b27"
      },
      "execution_count": 7,
      "outputs": [
        {
          "output_type": "execute_result",
          "data": {
            "text/plain": [
              "array([0, 0, 0, 0, 0, 0, 0, 0, 0, 0, 0, 0, 0, 0, 0, 0, 0, 0, 0, 0, 0, 0,\n",
              "       0, 0, 0, 0, 0, 0, 0, 0, 0, 0, 0, 0, 0, 0, 0, 0, 0, 0, 0, 0, 0, 0,\n",
              "       0, 0, 0, 0, 0, 0, 1, 1, 1, 1, 1, 1, 1, 1, 1, 1, 1, 1, 1, 1, 1, 1,\n",
              "       1, 1, 1, 1, 1, 1, 1, 1, 1, 1, 1, 1, 1, 1, 1, 1, 1, 1, 1, 1, 1, 1,\n",
              "       1, 1, 1, 1, 1, 1, 1, 1, 1, 1, 1, 1, 2, 2, 2, 2, 2, 2, 2, 2, 2, 2,\n",
              "       2, 2, 2, 2, 2, 2, 2, 2, 2, 2, 2, 2, 2, 2, 2, 2, 2, 2, 2, 2, 2, 2,\n",
              "       2, 2, 2, 2, 2, 2, 2, 2, 2, 2, 2, 2, 2, 2, 2, 2, 2, 2])"
            ]
          },
          "metadata": {},
          "execution_count": 7
        }
      ]
    },
    {
      "cell_type": "markdown",
      "source": [
        "## Save and Load model using Pickle"
      ],
      "metadata": {
        "id": "hcY7ylpuRaLH"
      }
    },
    {
      "cell_type": "code",
      "source": [
        "import pickle"
      ],
      "metadata": {
        "id": "ak_xG6zIRgjR"
      },
      "execution_count": 3,
      "outputs": []
    },
    {
      "cell_type": "markdown",
      "source": [
        "### Save model"
      ],
      "metadata": {
        "id": "L1SOWkuoSTO-"
      }
    },
    {
      "cell_type": "code",
      "source": [
        "\n",
        "with open(\"rf_model1.pickle\",\"wb\") as file:\n",
        "  pickle.dump(rf, file)"
      ],
      "metadata": {
        "id": "K9E4fP-cRiAv"
      },
      "execution_count": 4,
      "outputs": []
    },
    {
      "cell_type": "markdown",
      "source": [
        "### Load Model"
      ],
      "metadata": {
        "id": "bbfPq24_SVoO"
      }
    },
    {
      "cell_type": "code",
      "source": [
        "with open(\"rf_model1.pickle\",\"rb\") as file:\n",
        "  model1 = pickle.load(file)"
      ],
      "metadata": {
        "id": "kj3SrkPhSXhj"
      },
      "execution_count": 5,
      "outputs": []
    },
    {
      "cell_type": "code",
      "source": [
        "model1"
      ],
      "metadata": {
        "colab": {
          "base_uri": "https://localhost:8080/"
        },
        "id": "vWJm7dRfSvca",
        "outputId": "f92c1f38-69ff-4671-db21-6eac46e07d73"
      },
      "execution_count": 6,
      "outputs": [
        {
          "output_type": "execute_result",
          "data": {
            "text/plain": [
              "RandomForestClassifier()"
            ]
          },
          "metadata": {},
          "execution_count": 6
        }
      ]
    },
    {
      "cell_type": "code",
      "source": [
        "SepalLength = 6.3\n",
        "SepalWidth = 2.3\n",
        "PetalLength = 4.6\n",
        "PetalWidth = 1.3\n",
        "\n",
        "model1.predict([[SepalLength, SepalWidth, PetalLength, PetalWidth]])"
      ],
      "metadata": {
        "colab": {
          "base_uri": "https://localhost:8080/"
        },
        "id": "dwY6nRRMSyQz",
        "outputId": "cbad444f-052c-4a5d-9d0c-de45dae52adc"
      },
      "execution_count": 9,
      "outputs": [
        {
          "output_type": "execute_result",
          "data": {
            "text/plain": [
              "array([1])"
            ]
          },
          "metadata": {},
          "execution_count": 9
        }
      ]
    },
    {
      "cell_type": "markdown",
      "source": [
        "## Save and Load model using Joblib"
      ],
      "metadata": {
        "id": "JIP1dfcCTMyT"
      }
    },
    {
      "cell_type": "code",
      "source": [
        "import joblib"
      ],
      "metadata": {
        "id": "AMP6q5T-TPHw"
      },
      "execution_count": 10,
      "outputs": []
    },
    {
      "cell_type": "markdown",
      "source": [
        "### Save Model"
      ],
      "metadata": {
        "id": "9J9ERzj6TS03"
      }
    },
    {
      "cell_type": "code",
      "source": [
        "joblib.dump(rf, 'rf_model2.pickle')"
      ],
      "metadata": {
        "colab": {
          "base_uri": "https://localhost:8080/"
        },
        "id": "PDgs8yyiTRt-",
        "outputId": "f5f982e1-e549-43a0-8ef4-4adfa481cbdf"
      },
      "execution_count": 11,
      "outputs": [
        {
          "output_type": "execute_result",
          "data": {
            "text/plain": [
              "['rf_model2.pickle']"
            ]
          },
          "metadata": {},
          "execution_count": 11
        }
      ]
    },
    {
      "cell_type": "markdown",
      "source": [
        "### Load Model"
      ],
      "metadata": {
        "id": "YRLGG06CTi_i"
      }
    },
    {
      "cell_type": "code",
      "source": [
        "model2 = joblib.load(\"rf_model2.pickle\")"
      ],
      "metadata": {
        "id": "6RXROru4Th5g"
      },
      "execution_count": 12,
      "outputs": []
    },
    {
      "cell_type": "code",
      "source": [
        "SepalLength = 6.3\n",
        "SepalWidth = 2.3\n",
        "PetalLength = 4.6\n",
        "PetalWidth = 1.3\n",
        "\n",
        "model2.predict([[SepalLength, SepalWidth, PetalLength, PetalWidth]])"
      ],
      "metadata": {
        "colab": {
          "base_uri": "https://localhost:8080/"
        },
        "id": "yrv6aw5STuqD",
        "outputId": "0685a6ff-463b-43b6-bc85-ec4cc1f1d672"
      },
      "execution_count": 13,
      "outputs": [
        {
          "output_type": "execute_result",
          "data": {
            "text/plain": [
              "array([1])"
            ]
          },
          "metadata": {},
          "execution_count": 13
        }
      ]
    }
  ]
}