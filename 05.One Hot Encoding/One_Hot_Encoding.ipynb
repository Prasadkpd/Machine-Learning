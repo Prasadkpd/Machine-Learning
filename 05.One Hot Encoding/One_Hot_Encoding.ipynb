{
  "nbformat": 4,
  "nbformat_minor": 0,
  "metadata": {
    "colab": {
      "name": "One Hot Encoding.ipynb",
      "provenance": [],
      "authorship_tag": "ABX9TyPatjcUhel0ZjRb02fsBsej",
      "include_colab_link": true
    },
    "kernelspec": {
      "name": "python3",
      "display_name": "Python 3"
    },
    "language_info": {
      "name": "python"
    }
  },
  "cells": [
    {
      "cell_type": "markdown",
      "metadata": {
        "id": "view-in-github",
        "colab_type": "text"
      },
      "source": [
        "<a href=\"https://colab.research.google.com/github/Prasadkpd/Machine-Learning/blob/master/One%20Hot%20Encoding/One_Hot_Encoding.ipynb\" target=\"_parent\"><img src=\"https://colab.research.google.com/assets/colab-badge.svg\" alt=\"Open In Colab\"/></a>"
      ]
    },
    {
      "cell_type": "code",
      "execution_count": 2,
      "metadata": {
        "colab": {
          "base_uri": "https://localhost:8080/"
        },
        "id": "kptDKjNYgIlr",
        "outputId": "fb3a735e-ce92-4517-f008-1293057631f0"
      },
      "outputs": [
        {
          "output_type": "execute_result",
          "data": {
            "text/plain": [
              "0      Pass\n",
              "1      Fail\n",
              "2      Pass\n",
              "3      Pass\n",
              "4    Absent\n",
              "5      Fail\n",
              "6      Fail\n",
              "7      Pass\n",
              "8      Pass\n",
              "9    Absent\n",
              "Name: result, dtype: object"
            ]
          },
          "metadata": {},
          "execution_count": 2
        }
      ],
      "source": [
        "import pandas as pd\n",
        "data = pd.read_csv(\"student.csv\")\n",
        "data[\"result\"]"
      ]
    },
    {
      "cell_type": "code",
      "source": [
        "result_category = data['result']\n",
        "result_category"
      ],
      "metadata": {
        "colab": {
          "base_uri": "https://localhost:8080/"
        },
        "id": "-mIRDqlgjG_8",
        "outputId": "445632ca-5332-4a11-98a3-e7547fb5e6f5"
      },
      "execution_count": 3,
      "outputs": [
        {
          "output_type": "execute_result",
          "data": {
            "text/plain": [
              "0      Pass\n",
              "1      Fail\n",
              "2      Pass\n",
              "3      Pass\n",
              "4    Absent\n",
              "5      Fail\n",
              "6      Fail\n",
              "7      Pass\n",
              "8      Pass\n",
              "9    Absent\n",
              "Name: result, dtype: object"
            ]
          },
          "metadata": {},
          "execution_count": 3
        }
      ]
    },
    {
      "cell_type": "markdown",
      "source": [
        "# In this We are going to label Encoding\n",
        "Which mean we show \n",
        "* Absent - 0\n",
        "* Fail   - 1\n",
        "* Pass   - 2"
      ],
      "metadata": {
        "id": "xvV83m8YjT6L"
      }
    },
    {
      "cell_type": "code",
      "source": [
        "from sklearn.preprocessing import LabelEncoder\n",
        "LabelEncoder_Obj = LabelEncoder()\n",
        "result = LabelEncoder_Obj.fit_transform(result_category)\n",
        "result"
      ],
      "metadata": {
        "colab": {
          "base_uri": "https://localhost:8080/"
        },
        "id": "mBUGYdVTjRv4",
        "outputId": "1da42836-9327-4313-a2b5-7a90fb4b445f"
      },
      "execution_count": 4,
      "outputs": [
        {
          "output_type": "execute_result",
          "data": {
            "text/plain": [
              "array([2, 1, 2, 2, 0, 1, 1, 2, 2, 0])"
            ]
          },
          "metadata": {},
          "execution_count": 4
        }
      ]
    },
    {
      "cell_type": "markdown",
      "source": [
        "# There is a Problem\n",
        "In this the model think as absent is so far to pass and near to the fail. So we use the one hot encoding technique."
      ],
      "metadata": {
        "id": "6i9gWO0ekLcJ"
      }
    },
    {
      "cell_type": "code",
      "source": [
        "# For use one hot encoding technique\n",
        "from sklearn.preprocessing import LabelBinarizer\n",
        "LabelBinarizer_Obj = LabelBinarizer()\n",
        "result = LabelBinarizer_Obj.fit_transform(result_category)\n",
        "result"
      ],
      "metadata": {
        "colab": {
          "base_uri": "https://localhost:8080/"
        },
        "id": "5yFU4TvlkWVu",
        "outputId": "25f64c4c-d6c7-43d4-f13f-c91293cc336e"
      },
      "execution_count": 5,
      "outputs": [
        {
          "output_type": "execute_result",
          "data": {
            "text/plain": [
              "array([[0, 0, 1],\n",
              "       [0, 1, 0],\n",
              "       [0, 0, 1],\n",
              "       [0, 0, 1],\n",
              "       [1, 0, 0],\n",
              "       [0, 1, 0],\n",
              "       [0, 1, 0],\n",
              "       [0, 0, 1],\n",
              "       [0, 0, 1],\n",
              "       [1, 0, 0]])"
            ]
          },
          "metadata": {},
          "execution_count": 5
        }
      ]
    },
    {
      "cell_type": "code",
      "source": [
        "# We can see the classes by this way\n",
        "LabelBinarizer_Obj.classes_"
      ],
      "metadata": {
        "colab": {
          "base_uri": "https://localhost:8080/"
        },
        "id": "lcmG0qqhlIut",
        "outputId": "b0a4efd5-7660-4b04-f9ee-e2a3e05dcf31"
      },
      "execution_count": 6,
      "outputs": [
        {
          "output_type": "execute_result",
          "data": {
            "text/plain": [
              "array(['Absent', 'Fail', 'Pass'], dtype='<U6')"
            ]
          },
          "metadata": {},
          "execution_count": 6
        }
      ]
    }
  ]
}